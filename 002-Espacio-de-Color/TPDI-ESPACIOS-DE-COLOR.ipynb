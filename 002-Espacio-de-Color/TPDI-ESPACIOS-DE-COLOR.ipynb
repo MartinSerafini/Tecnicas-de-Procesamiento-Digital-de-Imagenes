{
 "cells": [
  {
   "cell_type": "markdown",
   "metadata": {
    "id": "wAqm1i9sROLb"
   },
   "source": [
    "# ESPACIOS DE COLOR - RECORTE INTERACTIVO - RUIDO GAUSSIANO CON CV2.GAUSSIAN Y DETECCION DE BORDES CON CV2.CANNY\n",
    "Autor: Serafini, Martin Nicolas\n"
   ]
  },
  {
   "cell_type": "markdown",
   "metadata": {
    "id": "UsUDSRG9RsGW"
   },
   "source": [
    "El objetivo del presente trabajo es facilitar la iteracion de los valores optimos para el recorte y procesamiento de una imagen con desenfoque gaussiano y Canny para la deteccion de bordes incluidos en la libreria cv2.\n",
    "\n",
    "Los valores se almacenan en una lista que es devuelta por la funcion para ser utilizada en una instancia posterior del procesamiento.\n"
   ]
  },
  {
   "cell_type": "markdown",
   "metadata": {
    "id": "vqjSRayMF-td"
   },
   "source": [
    "Funcionalidades\n",
    "* Cargar una imagen y analizar sus canales\n",
    "* Alternar diferentes mapas de color utilizando Matplotlib\n",
    "* Conversiones entre BGR y RGB\n",
    "* Recorte interactivo\n",
    "* Deteccion de bordes con seleccion de parametros interactivo\n",
    "* Desenfoque gaussiano con seleccion de parametros interactivo"
   ]
  },
  {
   "cell_type": "markdown",
   "metadata": {
    "id": "usX85cPNQtxg"
   },
   "source": [
    "## IMPORTACION DE LIBRERIAS Y CHEQUEO DEL ENTORNO"
   ]
  },
  {
   "cell_type": "code",
   "execution_count": 18,
   "metadata": {
    "executionInfo": {
     "elapsed": 3337,
     "status": "ok",
     "timestamp": 1744732802574,
     "user": {
      "displayName": "SERAFINI MARTIN NICOLAS",
      "userId": "07026938661163259483"
     },
     "user_tz": 180
    },
    "id": "zloQE1AurONv"
   },
   "outputs": [],
   "source": [
    "# Instalo las bibliotecas requeridas\n",
    "!pip install scikit-image watermark -q"
   ]
  },
  {
   "cell_type": "code",
   "execution_count": 19,
   "metadata": {
    "executionInfo": {
     "elapsed": 1,
     "status": "ok",
     "timestamp": 1744732802577,
     "user": {
      "displayName": "SERAFINI MARTIN NICOLAS",
      "userId": "07026938661163259483"
     },
     "user_tz": 180
    },
    "id": "1TYoDV-PrTXd"
   },
   "outputs": [],
   "source": [
    "# Importo las bibliotecas necesarias para el procesamiento de imágenes\n",
    "import numpy as np\n",
    "import cv2\n",
    "from cv2 import imread\n",
    "import matplotlib.pyplot as plt\n",
    "import matplotlib.image as mpimg\n",
    "import numpy as np\n",
    "from IPython.display import display\n",
    "from ipywidgets import interact, Checkbox, Dropdown\n",
    "import re\n",
    "import numpy as np\n",
    "import os\n",
    "import urllib.request"
   ]
  },
  {
   "cell_type": "code",
   "execution_count": 20,
   "metadata": {
    "colab": {
     "base_uri": "https://localhost:8080/"
    },
    "executionInfo": {
     "elapsed": 31,
     "status": "ok",
     "timestamp": 1744732802609,
     "user": {
      "displayName": "SERAFINI MARTIN NICOLAS",
      "userId": "07026938661163259483"
     },
     "user_tz": 180
    },
    "id": "E2r41XLgrPcq",
    "outputId": "7ff7c847-9783-435d-d6a5-53f6921ed2f1"
   },
   "outputs": [
    {
     "name": "stdout",
     "output_type": "stream",
     "text": [
      "The watermark extension is already loaded. To reload it, use:\n",
      "  %reload_ext watermark\n",
      "Last updated: 2025-04-15T16:00:45.859783+00:00\n",
      "\n",
      "Python implementation: CPython\n",
      "Python version       : 3.11.11\n",
      "IPython version      : 7.34.0\n",
      "\n",
      "Compiler    : GCC 11.4.0\n",
      "OS          : Linux\n",
      "Release     : 6.1.85+\n",
      "Machine     : x86_64\n",
      "Processor   : x86_64\n",
      "CPU cores   : 2\n",
      "Architecture: 64bit\n",
      "\n",
      "numpy     : 1.26.4\n",
      "matplotlib: 3.10.0\n",
      "cv2       : 4.11.0\n",
      "IPython   : 7.34.0\n",
      "ipywidgets: 7.7.1\n",
      "re        : 2.2.1\n",
      "\n"
     ]
    }
   ],
   "source": [
    "# Instalo la biblioteca watermark para mostrar información del entorno\n",
    "%load_ext watermark\n",
    "%watermark\n",
    "%watermark --iversions"
   ]
  },
  {
   "cell_type": "markdown",
   "metadata": {
    "id": "GSuCJ2LUQ01o"
   },
   "source": [
    "## CARGA DE LA IMAGEN"
   ]
  },
  {
   "cell_type": "markdown",
   "metadata": {
    "id": "6veB1oY7GP-p"
   },
   "source": [
    "Links de prueba:\n",
    "\n",
    "Fotos a color:\n",
    "https://www2.eecs.berkeley.edu/Research/Projects/CS/vision/bsds/BSDS300/html/images/plain/normal/color/86000.jpg\n",
    "\n",
    "https://i0.wp.com/puppis.blog/wp-content/uploads/2022/03/etapas-desarrollo-perros-cachorros-gatitos-min.jpg\n",
    "\n",
    "Homero:\n",
    "https://wallpapers.com/images/featured/imagenes-divertidas-de-homer-simpson-nv3un39cjzu6qjju.jpg\n",
    "\n",
    "Paleta de colores:\n",
    "https://cdn.pixabay.com/photo/2013/07/12/18/38/colors-153623_1280.png\n"
   ]
  },
  {
   "cell_type": "code",
   "execution_count": 21,
   "metadata": {
    "colab": {
     "base_uri": "https://localhost:8080/"
    },
    "executionInfo": {
     "elapsed": 7395,
     "status": "ok",
     "timestamp": 1744732810005,
     "user": {
      "displayName": "SERAFINI MARTIN NICOLAS",
      "userId": "07026938661163259483"
     },
     "user_tz": 180
    },
    "id": "QTSrBQlKcP-f",
    "outputId": "e4bfa5bf-5941-41f6-a554-0801d9980125"
   },
   "outputs": [
    {
     "name": "stdout",
     "output_type": "stream",
     "text": [
      "Ingrese la URL de la imagen: https://www2.eecs.berkeley.edu/Research/Projects/CS/vision/bsds/BSDS300/html/images/plain/normal/color/86000.jpg\n",
      "Imagen cargada exitosamente.\n"
     ]
    }
   ],
   "source": [
    "\n",
    "# Pido al usuario que ingrese una URL\n",
    "url = input(\"Ingrese la URL de la imagen: \")\n",
    "\n",
    "# Verifico que la URL sea válida utilizando una expresión regular\n",
    "pattern = re.compile(r'^(https?|ftp)://[^\\s/$.?#].[^\\s]*$')\n",
    "if not pattern.match(url):\n",
    "    print(\"Error: La URL ingresada no es válida.\")\n",
    "else:\n",
    "    # Verifico si la URL corresponde a una imagen validando la extensión\n",
    "    if not url.lower().endswith(('.png', '.jpg', '.jpeg', '.bmp', '.gif')):\n",
    "        print(\"Error: La URL no corresponde a una imagen válida.\")\n",
    "    else:\n",
    "        # Descargo la imagen utilizando wget\n",
    "        os.system(f\"wget {url}\")\n",
    "\n",
    "        # Extraigo el nombre del archivo de la URL para cargar la imagen\n",
    "        filename = url.split(\"/\")[-1]\n",
    "\n",
    "        # Cargo la imagen en la variable 'imagen'\n",
    "        imagen = cv2.imread(filename)\n",
    "\n",
    "        print(\"Imagen cargada exitosamente.\")"
   ]
  },
  {
   "cell_type": "markdown",
   "metadata": {
    "id": "hAROc9TfLonx"
   },
   "source": [
    "La imagen se abre utilizando la libreria cv2, generando que se cargue en formato BGR en lugar de RGB como usualmente se muestran las imagenes.3\n",
    "\n",
    "Al mostrar la imagen con los canales de color permutados ocaciona una distorsion de los mismos."
   ]
  },
  {
   "cell_type": "markdown",
   "metadata": {
    "id": "NPmk0ulFQ72O"
   },
   "source": [
    "## PROCESAMIENTO DE LA IMAGEN\n"
   ]
  },
  {
   "cell_type": "code",
   "execution_count": 22,
   "metadata": {
    "colab": {
     "base_uri": "https://localhost:8080/",
     "height": 958,
     "referenced_widgets": [
      "b4ed9d3a6d2a46b2b16e719bfcb32fd6",
      "0ca5e93abb6b4a32995f3543fee54092",
      "39d7aced1d554c33aacdc338b8eba30e",
      "053b793b045f46a79f0e9518d2883c17",
      "3ef3717c348145689f928f41ef7fe7e8",
      "7d9c78b0598f469a935d9d1ccb1cce71",
      "37a9f3b450aa4676951b5b60b8f6aa91",
      "26c7b63a3da84b54bbd1340e0358f916",
      "fd734b73f0b24a288f961a3114b71d7f",
      "96c7b15514fe4be7b10aafd2e77eb092",
      "fbb985e543064952811471037172f689",
      "4b7a9012b2c84ad0b66cf606095e6240",
      "ea95b1744c7c402ca30ba1c0a4dc28d4",
      "c7b42e78506b4b5e99538096135d5008",
      "aaf5388c1a4c418eb8c32da1591dd8f4",
      "e250bdb9b5724bed9d85620e7671bae5",
      "50c78644ef5c4db7b2b382ecc522c54d",
      "0eab103ff0324102b7d0862478d34e28",
      "bfe860dbadb74a88b9ee50677db1ed72",
      "00dc0472cf3e457c97fdc7673bf1aa3a",
      "1a2dca821dbc474398bf0514d92389a8",
      "8d43686563f044e89e145c5685cb5d90",
      "b404117344214417a8add5feece3f146",
      "98cd60bc78e34232917cae8fb591149a",
      "e0eab0b790464b7183f57c4a4c9c2283",
      "7ffcf08dd9e849edb755127911db955b",
      "d0ba3c7164954a54a4be8e756a1b9fd4",
      "821eda357b79403881c127f59bb96481",
      "b6bc9ab9ea6f455eac0cbdeb48418420",
      "3947179871ca4be69794d4b4fe00cf4c",
      "4bcbebd550cf4e198dbf9a7e28ab5664",
      "3acfbcb2f67944ebbe8d84dd9b6968fe",
      "0360685c8ba247f391d0c985b3e64e4f",
      "3831d6e3fe9e49678e915d5d8ab15b80",
      "35bf6e3d43694789ba75909763045a9e",
      "a093aa0df4d04b12b79a8ca4145e9fc0",
      "e7d95a476b77477ba1c53a349ebacc31",
      "0f12b03489ed4fe789dbace88177efec",
      "1376e48c34ab4a9f97ead64784c5b274",
      "05e016d02eb64069a3deef1a66cbe0a8",
      "b6c4af86cfda41d781ec7909a5d0a30e",
      "a791fbf2e4294a42aaf4c8e8867b3fd5",
      "85acc67a5e3d4374901554639b1673d3"
     ]
    },
    "executionInfo": {
     "elapsed": 1378,
     "status": "ok",
     "timestamp": 1744732811393,
     "user": {
      "displayName": "SERAFINI MARTIN NICOLAS",
      "userId": "07026938661163259483"
     },
     "user_tz": 180
    },
    "id": "3SjkMZv8VMkL",
    "outputId": "d21fa719-3998-4b2f-f92b-2da7787d9641"
   },
   "outputs": [
    {
     "data": {
      "application/vnd.jupyter.widget-view+json": {
       "model_id": "b4ed9d3a6d2a46b2b16e719bfcb32fd6",
       "version_major": 2,
       "version_minor": 0
      },
      "text/plain": [
       "interactive(children=(IntSlider(value=0, description='y1', max=481), IntSlider(value=481, description='y2', ma…"
      ]
     },
     "metadata": {},
     "output_type": "display_data"
    },
    {
     "data": {
      "text/html": [
       "<div style=\"max-width:800px; border: 1px solid var(--colab-border-color);\"><style>\n",
       "      pre.function-repr-contents {\n",
       "        overflow-x: auto;\n",
       "        padding: 8px 12px;\n",
       "        max-height: 500px;\n",
       "      }\n",
       "\n",
       "      pre.function-repr-contents.function-repr-contents-collapsed {\n",
       "        cursor: pointer;\n",
       "        max-height: 100px;\n",
       "      }\n",
       "    </style>\n",
       "    <pre style=\"white-space: initial; background:\n",
       "         var(--colab-secondary-surface-color); padding: 8px 12px;\n",
       "         border-bottom: 1px solid var(--colab-border-color);\"><b>mostrar_recorte</b><br/>def mostrar_recorte(y1=0, y2=alto, x1=0, x2=ancho, convertir_rgb=False, mapas_color=True, aplicar_canny=False, Umbral_Inf=100, Umbral_Sup=200, aplicar_gauss=False, kernel=5, sigma=0, border_type=cv2.BORDER_DEFAULT)</pre><pre class=\"function-repr-contents function-repr-contents-collapsed\" style=\"\"><a class=\"filepath\" style=\"display:none\" href=\"#\">/content/&lt;ipython-input-22-4459d07cbc48&gt;</a>&lt;no docstring&gt;</pre></div>"
      ],
      "text/plain": [
       "<function __main__.mostrar_recorte(y1=0, y2=481, x1=0, x2=321, convertir_rgb=False, mapas_color=True, aplicar_canny=False, Umbral_Inf=100, Umbral_Sup=200, aplicar_gauss=False, kernel=5, sigma=0, border_type=4)>"
      ]
     },
     "metadata": {},
     "output_type": "display_data"
    }
   ],
   "source": [
    "# Saco los datos del tamaño para usarlos en los sliders para el recorte\n",
    "alto, ancho, cant_canales = imagen.shape\n",
    "\n",
    "# Genero una lista vacia donde van a almacenarse todos los seteos que haga para usarlos en etapas posteriores\n",
    "recorte = []\n",
    "\n",
    "# Funcion para procesar la imagen\n",
    "def mostrar_recorte(y1=0, y2=alto, x1=0, x2=ancho, convertir_rgb=False, mapas_color=True, aplicar_canny=False, Umbral_Inf=100, Umbral_Sup=200, aplicar_gauss=False, kernel=5, sigma=0, border_type=cv2.BORDER_DEFAULT):\n",
    "    img_recortada = imagen[y1:y2, x1:x2]\n",
    "\n",
    "    canal_1 = img_recortada[:, :, 0]\n",
    "    canal_2 = img_recortada[:, :, 1]\n",
    "    canal_3 = img_recortada[:, :, 2]\n",
    "\n",
    "    def mostrar_stats():\n",
    "        print()\n",
    "        titulo=\"Intensidad de los canales de color\"\n",
    "        columnas = (\"Canal\", \"Minimo\", \"Maximo\", \"Promedio\")\n",
    "        print(f\"{titulo:^45}\")\n",
    "        print(f\"{columnas[0]:^15}{columnas[1]:^10}{columnas[2]:^10}{columnas[3]:^10}\")\n",
    "        print(f\"{canales_nombres[0]:<15}{canal_1.min():10}{canal_1.max():10}{canal_1.mean():10.2f}\")\n",
    "        print(f\"{canales_nombres[1]:<15}{canal_2.min():10}{canal_2.max():10}{canal_2.mean():10.2f}\")\n",
    "        print(f\"{canales_nombres[2]:<15}{canal_3.min():10}{canal_3.max():10}{canal_3.mean():10.2f}\")\n",
    "        print()\n",
    "\n",
    "    if convertir_rgb:\n",
    "        img_recortada = cv2.cvtColor(img_recortada, cv2.COLOR_BGR2RGB)\n",
    "        if mapas_color:\n",
    "            colores=[\"Blues\",\"Greens\",\"Reds\"]\n",
    "        else:\n",
    "            colores=[\"grey\",\"grey\",\"grey\"]\n",
    "        canal_1 = img_recortada[:, :, 2]\n",
    "        canal_2 = img_recortada[:, :, 1]\n",
    "        canal_3 = img_recortada[:, :, 0]\n",
    "        canales_nombres=[\"Canal Azul\",\"Canal Verde\",\"Canal Rojo\"]\n",
    "        mostrar_stats()\n",
    "    else:\n",
    "        if mapas_color:\n",
    "            colores=[\"Reds\",\"Greens\",\"Blues\"]\n",
    "        else:\n",
    "            colores=[\"grey\",\"grey\",\"grey\"]\n",
    "        canales_nombres=[\"Canal Rojo\",\"Canal Verde\",\"Canal Azul\"]\n",
    "        mostrar_stats()\n",
    "\n",
    "    if aplicar_gauss:\n",
    "        img_recortada = cv2.GaussianBlur(img_recortada, (kernel,kernel), sigma, borderType=border_type)\n",
    "        canal_1 = cv2.GaussianBlur(canal_1, (kernel,kernel), sigma, borderType=border_type)\n",
    "        canal_2 = cv2.GaussianBlur(canal_2, (kernel,kernel), sigma, borderType=border_type)\n",
    "        canal_3 = cv2.GaussianBlur(canal_3, (kernel,kernel), sigma, borderType=border_type)\n",
    "\n",
    "    if aplicar_canny:\n",
    "        img_recortada = cv2.Canny(img_recortada, Umbral_Inf, Umbral_Sup)\n",
    "        canal_1 = cv2.Canny(canal_1, Umbral_Inf, Umbral_Sup)\n",
    "        canal_2 = cv2.Canny(canal_2, Umbral_Inf, Umbral_Sup)\n",
    "        canal_3 = cv2.Canny(canal_3, Umbral_Inf, Umbral_Sup)\n",
    "\n",
    "    fig, axs = plt.subplots(1, 4, figsize=(15, 5))\n",
    "    axs[0].imshow(img_recortada, cmap='gray' if aplicar_canny else None)\n",
    "    axs[0].set_title(\"Imagen Recortada\")\n",
    "    axs[0].axis(\"off\")\n",
    "\n",
    "    axs[1].imshow(canal_1, cmap=colores[0])\n",
    "    axs[1].set_title(canales_nombres[0])\n",
    "    axs[1].axis(\"off\")\n",
    "\n",
    "    axs[2].imshow(canal_2, cmap=colores[1])\n",
    "    axs[2].set_title(canales_nombres[1])\n",
    "    axs[2].axis(\"off\")\n",
    "\n",
    "    axs[3].imshow(canal_3, cmap=colores[2])\n",
    "    axs[3].set_title(canales_nombres[2])\n",
    "    axs[3].axis(\"off\")\n",
    "\n",
    "    plt.show()\n",
    "\n",
    "    # Genera la lista con los datos del recorte\n",
    "    # Como se va iterando, con cada cambio se genera una nueva lista de datos\n",
    "    recorte.clear()\n",
    "    recorte.extend([y1, y2, x1, x2, aplicar_canny, Umbral_Inf, Umbral_Sup, aplicar_gauss, kernel, sigma, border_type])\n",
    "    #recorte = [y1, y2, x1, x2, aplicar_canny, Umbral_Inf, Umbral_Sup, aplicar_gauss, kernel, sigma, border_type]\n",
    "    # Devuelve la lista\n",
    "    return recorte\n",
    "\n",
    "# Opciones de borde para desenfoque gaussiano\n",
    "border_options = {\n",
    "    \"BORDER_CONSTANT\": cv2.BORDER_CONSTANT,\n",
    "    \"BORDER_REPLICATE\": cv2.BORDER_REPLICATE,\n",
    "    \"BORDER_REFLECT\": cv2.BORDER_REFLECT,\n",
    "    \"BORDER_WRAP\": cv2.BORDER_WRAP,\n",
    "    \"BORDER_REFLECT_101\": cv2.BORDER_REFLECT_101\n",
    "}\n",
    "\n",
    "# Este es el objeto interactivo que guarda los controles\n",
    "widget = interact(mostrar_recorte,\n",
    "         y1=(0, alto, 1), y2=(0, alto, 1),\n",
    "         x1=(0, ancho, 1), x2=(0, ancho, 1),\n",
    "         convertir_rgb=Checkbox(value=False, description='Convertir a RGB'),\n",
    "         mapas_color=Checkbox(value=False, description='Mapas de Color'),\n",
    "         aplicar_canny=Checkbox(value=False, description='Aplicar Canny'), Umbral_Inf=(0, 255, 1), Umbral_Sup=(0, 255, 1),\n",
    "         aplicar_gauss=Checkbox(value=False, description='Aplicar Gauss'),\n",
    "         kernel=(1, 21, 2), sigma=(0,5,0.1),\n",
    "         border_type=Dropdown(options=border_options, description='Border Type'))\n",
    "\n",
    "\n",
    "# Se muestra el widget\n",
    "display(widget)"
   ]
  },
  {
   "cell_type": "markdown",
   "metadata": {
    "id": "272Fp5DREEcX"
   },
   "source": [
    "###Explicacion de los tonos de los canales de color\n",
    "* Los tonos tendientes al blanco hablan del nivel de saturacion especifico del color mapeado en ese canal (valores tendientes a 255).\n",
    "* Los tonos tendientes a negro hacen referencia al nivel de ausencia del color en ese canal (valores tendientes al 0)."
   ]
  },
  {
   "cell_type": "markdown",
   "metadata": {
    "id": "MrBBXs0yOTii"
   },
   "source": [
    "##DATOS DEL RECORTE\n",
    "Los datos del recorte son almacenados en una lista, la misma puede ser accedida en etapas posteriores para replicar el trabajo realizado."
   ]
  },
  {
   "cell_type": "code",
   "execution_count": 23,
   "metadata": {
    "colab": {
     "base_uri": "https://localhost:8080/"
    },
    "executionInfo": {
     "elapsed": 4,
     "status": "ok",
     "timestamp": 1744732811398,
     "user": {
      "displayName": "SERAFINI MARTIN NICOLAS",
      "userId": "07026938661163259483"
     },
     "user_tz": 180
    },
    "id": "w28RqCB0RA85",
    "outputId": "22c9e867-2063-496b-ff57-661784975afd"
   },
   "outputs": [
    {
     "data": {
      "text/plain": [
       "[0, 481, 0, 321, False, 100, 200, False, 5, 0.0, 0]"
      ]
     },
     "execution_count": 23,
     "metadata": {},
     "output_type": "execute_result"
    }
   ],
   "source": [
    "# Accedo a los valores del recorte\n",
    "recorte"
   ]
  },
  {
   "cell_type": "code",
   "execution_count": 24,
   "metadata": {
    "colab": {
     "base_uri": "https://localhost:8080/",
     "height": 435
    },
    "executionInfo": {
     "elapsed": 445,
     "status": "ok",
     "timestamp": 1744732811843,
     "user": {
      "displayName": "SERAFINI MARTIN NICOLAS",
      "userId": "07026938661163259483"
     },
     "user_tz": 180
    },
    "id": "WBLwyx2j3tFi",
    "outputId": "fc8b2778-17de-4ad2-e93d-ad725b83ee76"
   },
   "outputs": [
    {
     "data": {
      "image/png": "[encoded data removed]",
      "text/plain": [
       "<Figure size 640x480 with 1 Axes>"
      ]
     },
     "metadata": {},
     "output_type": "display_data"
    }
   ],
   "source": [
    "canal_prueba = imagen[recorte[0]:recorte[1], recorte[2]:recorte[3],2]\n",
    "plt.imshow(canal_prueba)\n",
    "plt.show()"
   ]
  },
  {
   "cell_type": "markdown",
   "metadata": {
    "id": "TcliJVjcRCVX"
   },
   "source": [
    "## Librerias usadas"
   ]
  },
  {
   "cell_type": "markdown",
   "metadata": {
    "id": "koEqp5v_R33O"
   },
   "source": [
    "### Interact\n",
    "**interact** es una función de la librería ipywidgets que genera automáticamente controles de interfaz gráfica (sliders, dropdowns, checkboxes, etc.) para manipular parámetros de funciones en tiempo real."
   ]
  },
  {
   "cell_type": "markdown",
   "metadata": {
    "id": "8RSlIWn78Zmw"
   },
   "source": [
    "###OpenCV\n",
    "**OpenCV (Open Source Computer Vision Library)** es una biblioteca de código abierto ampliamente utilizada para el desarrollo de aplicaciones relacionadas con la visión por computador y el procesamiento de imágenes. Fue desarrollada originalmente por Intel y actualmente es mantenida por una comunidad activa de desarrolladores.\n",
    "\n",
    "Características principales:\n",
    "* Formato BGR por defecto:\n",
    "  Una de las particularidades de OpenCV es que, a diferencia de muchas otras bibliotecas que trabajan con imágenes en formato RGB (Rojo, Verde, Azul), OpenCV utiliza por defecto el formato BGR (Azul, Verde, Rojo). Esto es importante tenerlo en cuenta al momento de visualizar o manipular imágenes, especialmente si se combinan con otras herramientas que esperan un orden de colores diferente.\n",
    "* Eficiencia en términos de procesamiento:\n",
    "  OpenCV está optimizada para ofrecer un rendimiento alto, incluso en tiempo real. Internamente utiliza implementaciones eficientes en C/C++, lo que permite el procesamiento rápido de imágenes y video. Además, muchas de sus operaciones están aceleradas mediante el uso de instrucciones SIMD (como SSE o AVX) y puede aprovechar hardware como GPUs mediante CUDA u OpenCL.\n",
    "* Ampliamente utilizada en aplicaciones de visión computacional:\n",
    "  Es una de las bibliotecas más populares en el ámbito de la visión artificial, y se emplea tanto en entornos académicos como industriales. Con OpenCV se pueden implementar fácilmente tareas como:\n",
    "\n",
    "  - Detección de objetos y rostros\n",
    "  - Seguimiento de movimiento\n",
    "  - Reconocimiento de patrones y formas\n",
    "  - Procesamiento de imágenes médicas\n",
    "  - Sistemas de visión para robots\n",
    "  - Aplicaciones de realidad aumentada, entre otros\n",
    "\n",
    "Además, OpenCV ofrece una amplia gama de funciones que abarcan desde operaciones básicas como lectura y escritura de imágenes, filtros, transformaciones geométricas y detección de bordes, hasta herramientas más complejas para aprendizaje automático y redes neuronales profundas."
   ]
  },
  {
   "cell_type": "markdown",
   "metadata": {
    "id": "4lTVz-0JSHPb"
   },
   "source": [
    "###Canny\n",
    "La función **cv2.Canny** se utiliza para la detección de bordes en imágenes. Implementa el algoritmo de Canny, que resalta los contornos significativos eliminando detalles no esenciales.\n",
    "\n",
    "Ejemplo: cv2.Canny(image, threshold1, threshold2, apertureSize=3, L2gradient=False)\n",
    "\n",
    "Parámetros\n",
    "1. image:\tImagen de entrada en escala de grises. Si es en color, hay que convertirla a grayscale.\tMatriz numpy de tipo uint8\n",
    "2. threshold1\tUmbral inferior para la supresión de bordes.\n",
    "  - Valores admitidos: 0 a 255 (Valores típicos: 50 - 100)\n",
    "3. threshold2\tUmbral superior para la detección de bordes fuertes.\n",
    "  - Valores admitidos: 0 a 255 (Valores típicos: 150 - 200)\n",
    "  - Un valor de threshold2 2-3 veces mayor que threshold1 suele funcionar bien.\n",
    "4. apertureSize\tTamaño del kernel de Sobel (debe ser impar).\n",
    "  - Valores admitidos: 3, 5, o 7 (Por defecto: 3)\n",
    "  - Controla el tamaño del filtro Sobel, que calcula los gradientes de la imagen:\n",
    "      - 3: Menos detalle, más rápido.\n",
    "      - 5: Balance entre precisión y rendimiento.\n",
    "      - 7: Más detalle, más lento.\n",
    "5. L2gradient\tSi es True, usa la norma L2 en el cálculo del gradiente (más preciso pero más lento). Si es False, usa la norma L1 (más rápida).\n",
    "  - Valores admitidos: True o False (Por defecto: False)\n"
   ]
  },
  {
   "cell_type": "markdown",
   "metadata": {
    "id": "rnfRsMD2O-x7"
   },
   "source": [
    "###GaussianBlur\n",
    "La función **cv2.GaussianBlur()** de OpenCV se usa para aplicar un filtro de desenfoque gaussiano a una imagen.\n",
    "\n",
    "Ejemplo:\n",
    "cv2.GaussianBlur(src, ksize, sigmaX[, dst[, sigmaY[, borderType]]])\n",
    "\n",
    "Parámetros:\n",
    "1. src (Obligatorio):\n",
    "  - Tipo: numpy.ndarray (Imagen de entrada) Debe ser una imagen en escala de\n",
    "  grises o en color.\n",
    "2. ksize (Obligatorio)\n",
    "  - Tipo: tuple (ancho, alto)\n",
    "  - Es el tamaño del kernel (matriz de convolución) utilizado para aplicar el filtro gaussiano. Debe ser un valor impar y positivo como (3,3), (5,5), (7,7), etc.\n",
    "  - Valores admitidos: (1,1), (3,3), (5,5), (7,7), etc. (Siempre impares y positivos)\n",
    "3. sigmaX (Obligatorio):\n",
    "  - Tipo: float\n",
    "  - Es la desviación estándar de la función gaussiana en la dirección X (horizontal).\n",
    "  - Si se establece en 0, OpenCV calculará automáticamente un valor óptimo en función de ksize.\n",
    "  - Valores admitidos: >= 0\n",
    "4. sigmaY (Opcional, por defecto 0):\n",
    "  - Tipo: float\n",
    "  - Es la desviación estándar en la dirección Y (vertical).\n",
    "  - Si se establece en 0, se tomará el mismo valor que sigmaX.\n",
    "  - Valores admitidos: >= 0\n",
    "5. borderType (Opcional, por defecto cv2.BORDER_DEFAULT):\n",
    "  - Define cómo se manejan los bordes de la imagen.\n",
    "  - Valores admitidos:\n",
    "    - cv2.BORDER_CONSTANT → Agrega un borde constante.\n",
    "    - cv2.BORDER_REPLICATE → Repite los píxeles de los bordes.\n",
    "    - cv2.BORDER_REFLECT → Refleja la imagen en los bordes.\n",
    "    - cv2.BORDER_WRAP → Envuelve la imagen en los bordes.\n",
    "    - cv2.BORDER_DEFAULT → Equivalente a cv2.BORDER_REFLECT_101.\n",
    "\n",
    "\n"
   ]
  }
 ],
 "metadata": {
  "colab": {
   "authorship_tag": "ABX9TyMrIpw5VtrtAYQ55t378S1B",
   "provenance": [
    {
     "file_id": "1rXWpAuA3JR7a-423dMLyZRvGw0tjjGtp",
     "timestamp": 1744406440276
    }
   ],
   "toc_visible": true
  },
  "kernelspec": {
   "display_name": "Python 3",
   "name": "python3"
  },
  "language_info": {
   "name": "python"
  },
  "widgets": {
   "application/vnd.jupyter.widget-state+json": {
    "00dc0472cf3e457c97fdc7673bf1aa3a": {
     "model_module": "@jupyter-widgets/controls",
     "model_module_version": "1.5.0",
     "model_name": "SliderStyleModel",
     "state": {
      "_model_module": "@jupyter-widgets/controls",
      "_model_module_version": "1.5.0",
      "_model_name": "SliderStyleModel",
      "_view_count": null,
      "_view_module": "@jupyter-widgets/base",
      "_view_module_version": "1.2.0",
      "_view_name": "StyleView",
      "description_width": "",
      "handle_color": null
     }
    },
    "0360685c8ba247f391d0c985b3e64e4f": {
     "model_module": "@jupyter-widgets/base",
     "model_module_version": "1.2.0",
     "model_name": "LayoutModel",
     "state": {
      "_model_module": "@jupyter-widgets/base",
      "_model_module_version": "1.2.0",
      "_model_name": "LayoutModel",
      "_view_count": null,
      "_view_module": "@jupyter-widgets/base",
      "_view_module_version": "1.2.0",
      "_view_name": "LayoutView",
      "align_content": null,
      "align_items": null,
      "align_self": null,
      "border": null,
      "bottom": null,
      "display": null,
      "flex": null,
      "flex_flow": null,
      "grid_area": null,
      "grid_auto_columns": null,
      "grid_auto_flow": null,
      "grid_auto_rows": null,
      "grid_column": null,
      "grid_gap": null,
      "grid_row": null,
      "grid_template_areas": null,
      "grid_template_columns": null,
      "grid_template_rows": null,
      "height": null,
      "justify_content": null,
      "justify_items": null,
      "left": null,
      "margin": null,
      "max_height": null,
      "max_width": null,
      "min_height": null,
      "min_width": null,
      "object_fit": null,
      "object_position": null,
      "order": null,
      "overflow": null,
      "overflow_x": null,
      "overflow_y": null,
      "padding": null,
      "right": null,
      "top": null,
      "visibility": null,
      "width": null
     }
    },
    "053b793b045f46a79f0e9518d2883c17": {
     "model_module": "@jupyter-widgets/controls",
     "model_module_version": "1.5.0",
     "model_name": "IntSliderModel",
     "state": {
      "_dom_classes": [],
      "_model_module": "@jupyter-widgets/controls",
      "_model_module_version": "1.5.0",
      "_model_name": "IntSliderModel",
      "_view_count": null,
      "_view_module": "@jupyter-widgets/controls",
      "_view_module_version": "1.5.0",
      "_view_name": "IntSliderView",
      "continuous_update": true,
      "description": "x1",
      "description_tooltip": null,
      "disabled": false,
      "layout": "IPY_MODEL_1a2dca821dbc474398bf0514d92389a8",
      "max": 321,
      "min": 0,
      "orientation": "horizontal",
      "readout": true,
      "readout_format": "d",
      "step": 1,
      "style": "IPY_MODEL_8d43686563f044e89e145c5685cb5d90",
      "value": 35
     }
    },
    "05e016d02eb64069a3deef1a66cbe0a8": {
     "model_module": "@jupyter-widgets/controls",
     "model_module_version": "1.5.0",
     "model_name": "SliderStyleModel",
     "state": {
      "_model_module": "@jupyter-widgets/controls",
      "_model_module_version": "1.5.0",
      "_model_name": "SliderStyleModel",
      "_view_count": null,
      "_view_module": "@jupyter-widgets/base",
      "_view_module_version": "1.2.0",
      "_view_name": "StyleView",
      "description_width": "",
      "handle_color": null
     }
    },
    "0ca5e93abb6b4a32995f3543fee54092": {
     "model_module": "@jupyter-widgets/controls",
     "model_module_version": "1.5.0",
     "model_name": "IntSliderModel",
     "state": {
      "_dom_classes": [],
      "_model_module": "@jupyter-widgets/controls",
      "_model_module_version": "1.5.0",
      "_model_name": "IntSliderModel",
      "_view_count": null,
      "_view_module": "@jupyter-widgets/controls",
      "_view_module_version": "1.5.0",
      "_view_name": "IntSliderView",
      "continuous_update": true,
      "description": "y1",
      "description_tooltip": null,
      "disabled": false,
      "layout": "IPY_MODEL_50c78644ef5c4db7b2b382ecc522c54d",
      "max": 481,
      "min": 0,
      "orientation": "horizontal",
      "readout": true,
      "readout_format": "d",
      "step": 1,
      "style": "IPY_MODEL_0eab103ff0324102b7d0862478d34e28",
      "value": 252
     }
    },
    "0eab103ff0324102b7d0862478d34e28": {
     "model_module": "@jupyter-widgets/controls",
     "model_module_version": "1.5.0",
     "model_name": "SliderStyleModel",
     "state": {
      "_model_module": "@jupyter-widgets/controls",
      "_model_module_version": "1.5.0",
      "_model_name": "SliderStyleModel",
      "_view_count": null,
      "_view_module": "@jupyter-widgets/base",
      "_view_module_version": "1.2.0",
      "_view_name": "StyleView",
      "description_width": "",
      "handle_color": null
     }
    },
    "0f12b03489ed4fe789dbace88177efec": {
     "model_module": "@jupyter-widgets/controls",
     "model_module_version": "1.5.0",
     "model_name": "SliderStyleModel",
     "state": {
      "_model_module": "@jupyter-widgets/controls",
      "_model_module_version": "1.5.0",
      "_model_name": "SliderStyleModel",
      "_view_count": null,
      "_view_module": "@jupyter-widgets/base",
      "_view_module_version": "1.2.0",
      "_view_name": "StyleView",
      "description_width": "",
      "handle_color": null
     }
    },
    "1376e48c34ab4a9f97ead64784c5b274": {
     "model_module": "@jupyter-widgets/base",
     "model_module_version": "1.2.0",
     "model_name": "LayoutModel",
     "state": {
      "_model_module": "@jupyter-widgets/base",
      "_model_module_version": "1.2.0",
      "_model_name": "LayoutModel",
      "_view_count": null,
      "_view_module": "@jupyter-widgets/base",
      "_view_module_version": "1.2.0",
      "_view_name": "LayoutView",
      "align_content": null,
      "align_items": null,
      "align_self": null,
      "border": null,
      "bottom": null,
      "display": null,
      "flex": null,
      "flex_flow": null,
      "grid_area": null,
      "grid_auto_columns": null,
      "grid_auto_flow": null,
      "grid_auto_rows": null,
      "grid_column": null,
      "grid_gap": null,
      "grid_row": null,
      "grid_template_areas": null,
      "grid_template_columns": null,
      "grid_template_rows": null,
      "height": null,
      "justify_content": null,
      "justify_items": null,
      "left": null,
      "margin": null,
      "max_height": null,
      "max_width": null,
      "min_height": null,
      "min_width": null,
      "object_fit": null,
      "object_position": null,
      "order": null,
      "overflow": null,
      "overflow_x": null,
      "overflow_y": null,
      "padding": null,
      "right": null,
      "top": null,
      "visibility": null,
      "width": null
     }
    },
    "1a2dca821dbc474398bf0514d92389a8": {
     "model_module": "@jupyter-widgets/base",
     "model_module_version": "1.2.0",
     "model_name": "LayoutModel",
     "state": {
      "_model_module": "@jupyter-widgets/base",
      "_model_module_version": "1.2.0",
      "_model_name": "LayoutModel",
      "_view_count": null,
      "_view_module": "@jupyter-widgets/base",
      "_view_module_version": "1.2.0",
      "_view_name": "LayoutView",
      "align_content": null,
      "align_items": null,
      "align_self": null,
      "border": null,
      "bottom": null,
      "display": null,
      "flex": null,
      "flex_flow": null,
      "grid_area": null,
      "grid_auto_columns": null,
      "grid_auto_flow": null,
      "grid_auto_rows": null,
      "grid_column": null,
      "grid_gap": null,
      "grid_row": null,
      "grid_template_areas": null,
      "grid_template_columns": null,
      "grid_template_rows": null,
      "height": null,
      "justify_content": null,
      "justify_items": null,
      "left": null,
      "margin": null,
      "max_height": null,
      "max_width": null,
      "min_height": null,
      "min_width": null,
      "object_fit": null,
      "object_position": null,
      "order": null,
      "overflow": null,
      "overflow_x": null,
      "overflow_y": null,
      "padding": null,
      "right": null,
      "top": null,
      "visibility": null,
      "width": null
     }
    },
    "26c7b63a3da84b54bbd1340e0358f916": {
     "model_module": "@jupyter-widgets/controls",
     "model_module_version": "1.5.0",
     "model_name": "CheckboxModel",
     "state": {
      "_dom_classes": [],
      "_model_module": "@jupyter-widgets/controls",
      "_model_module_version": "1.5.0",
      "_model_name": "CheckboxModel",
      "_view_count": null,
      "_view_module": "@jupyter-widgets/controls",
      "_view_module_version": "1.5.0",
      "_view_name": "CheckboxView",
      "description": "Aplicar Canny",
      "description_tooltip": null,
      "disabled": false,
      "indent": true,
      "layout": "IPY_MODEL_b6bc9ab9ea6f455eac0cbdeb48418420",
      "style": "IPY_MODEL_3947179871ca4be69794d4b4fe00cf4c",
      "value": true
     }
    },
    "35bf6e3d43694789ba75909763045a9e": {
     "model_module": "@jupyter-widgets/base",
     "model_module_version": "1.2.0",
     "model_name": "LayoutModel",
     "state": {
      "_model_module": "@jupyter-widgets/base",
      "_model_module_version": "1.2.0",
      "_model_name": "LayoutModel",
      "_view_count": null,
      "_view_module": "@jupyter-widgets/base",
      "_view_module_version": "1.2.0",
      "_view_name": "LayoutView",
      "align_content": null,
      "align_items": null,
      "align_self": null,
      "border": null,
      "bottom": null,
      "display": null,
      "flex": null,
      "flex_flow": null,
      "grid_area": null,
      "grid_auto_columns": null,
      "grid_auto_flow": null,
      "grid_auto_rows": null,
      "grid_column": null,
      "grid_gap": null,
      "grid_row": null,
      "grid_template_areas": null,
      "grid_template_columns": null,
      "grid_template_rows": null,
      "height": null,
      "justify_content": null,
      "justify_items": null,
      "left": null,
      "margin": null,
      "max_height": null,
      "max_width": null,
      "min_height": null,
      "min_width": null,
      "object_fit": null,
      "object_position": null,
      "order": null,
      "overflow": null,
      "overflow_x": null,
      "overflow_y": null,
      "padding": null,
      "right": null,
      "top": null,
      "visibility": null,
      "width": null
     }
    },
    "37a9f3b450aa4676951b5b60b8f6aa91": {
     "model_module": "@jupyter-widgets/controls",
     "model_module_version": "1.5.0",
     "model_name": "CheckboxModel",
     "state": {
      "_dom_classes": [],
      "_model_module": "@jupyter-widgets/controls",
      "_model_module_version": "1.5.0",
      "_model_name": "CheckboxModel",
      "_view_count": null,
      "_view_module": "@jupyter-widgets/controls",
      "_view_module_version": "1.5.0",
      "_view_name": "CheckboxView",
      "description": "Mapas de Color",
      "description_tooltip": null,
      "disabled": false,
      "indent": true,
      "layout": "IPY_MODEL_d0ba3c7164954a54a4be8e756a1b9fd4",
      "style": "IPY_MODEL_821eda357b79403881c127f59bb96481",
      "value": true
     }
    },
    "3831d6e3fe9e49678e915d5d8ab15b80": {
     "model_module": "@jupyter-widgets/controls",
     "model_module_version": "1.5.0",
     "model_name": "SliderStyleModel",
     "state": {
      "_model_module": "@jupyter-widgets/controls",
      "_model_module_version": "1.5.0",
      "_model_name": "SliderStyleModel",
      "_view_count": null,
      "_view_module": "@jupyter-widgets/base",
      "_view_module_version": "1.2.0",
      "_view_name": "StyleView",
      "description_width": "",
      "handle_color": null
     }
    },
    "3947179871ca4be69794d4b4fe00cf4c": {
     "model_module": "@jupyter-widgets/controls",
     "model_module_version": "1.5.0",
     "model_name": "DescriptionStyleModel",
     "state": {
      "_model_module": "@jupyter-widgets/controls",
      "_model_module_version": "1.5.0",
      "_model_name": "DescriptionStyleModel",
      "_view_count": null,
      "_view_module": "@jupyter-widgets/base",
      "_view_module_version": "1.2.0",
      "_view_name": "StyleView",
      "description_width": ""
     }
    },
    "39d7aced1d554c33aacdc338b8eba30e": {
     "model_module": "@jupyter-widgets/controls",
     "model_module_version": "1.5.0",
     "model_name": "IntSliderModel",
     "state": {
      "_dom_classes": [],
      "_model_module": "@jupyter-widgets/controls",
      "_model_module_version": "1.5.0",
      "_model_name": "IntSliderModel",
      "_view_count": null,
      "_view_module": "@jupyter-widgets/controls",
      "_view_module_version": "1.5.0",
      "_view_name": "IntSliderView",
      "continuous_update": true,
      "description": "y2",
      "description_tooltip": null,
      "disabled": false,
      "layout": "IPY_MODEL_bfe860dbadb74a88b9ee50677db1ed72",
      "max": 481,
      "min": 0,
      "orientation": "horizontal",
      "readout": true,
      "readout_format": "d",
      "step": 1,
      "style": "IPY_MODEL_00dc0472cf3e457c97fdc7673bf1aa3a",
      "value": 481
     }
    },
    "3acfbcb2f67944ebbe8d84dd9b6968fe": {
     "model_module": "@jupyter-widgets/controls",
     "model_module_version": "1.5.0",
     "model_name": "SliderStyleModel",
     "state": {
      "_model_module": "@jupyter-widgets/controls",
      "_model_module_version": "1.5.0",
      "_model_name": "SliderStyleModel",
      "_view_count": null,
      "_view_module": "@jupyter-widgets/base",
      "_view_module_version": "1.2.0",
      "_view_name": "StyleView",
      "description_width": "",
      "handle_color": null
     }
    },
    "3ef3717c348145689f928f41ef7fe7e8": {
     "model_module": "@jupyter-widgets/controls",
     "model_module_version": "1.5.0",
     "model_name": "IntSliderModel",
     "state": {
      "_dom_classes": [],
      "_model_module": "@jupyter-widgets/controls",
      "_model_module_version": "1.5.0",
      "_model_name": "IntSliderModel",
      "_view_count": null,
      "_view_module": "@jupyter-widgets/controls",
      "_view_module_version": "1.5.0",
      "_view_name": "IntSliderView",
      "continuous_update": true,
      "description": "x2",
      "description_tooltip": null,
      "disabled": false,
      "layout": "IPY_MODEL_b404117344214417a8add5feece3f146",
      "max": 321,
      "min": 0,
      "orientation": "horizontal",
      "readout": true,
      "readout_format": "d",
      "step": 1,
      "style": "IPY_MODEL_98cd60bc78e34232917cae8fb591149a",
      "value": 293
     }
    },
    "4b7a9012b2c84ad0b66cf606095e6240": {
     "model_module": "@jupyter-widgets/controls",
     "model_module_version": "1.5.0",
     "model_name": "IntSliderModel",
     "state": {
      "_dom_classes": [],
      "_model_module": "@jupyter-widgets/controls",
      "_model_module_version": "1.5.0",
      "_model_name": "IntSliderModel",
      "_view_count": null,
      "_view_module": "@jupyter-widgets/controls",
      "_view_module_version": "1.5.0",
      "_view_name": "IntSliderView",
      "continuous_update": true,
      "description": "kernel",
      "description_tooltip": null,
      "disabled": false,
      "layout": "IPY_MODEL_e7d95a476b77477ba1c53a349ebacc31",
      "max": 21,
      "min": 1,
      "orientation": "horizontal",
      "readout": true,
      "readout_format": "d",
      "step": 2,
      "style": "IPY_MODEL_0f12b03489ed4fe789dbace88177efec",
      "value": 5
     }
    },
    "4bcbebd550cf4e198dbf9a7e28ab5664": {
     "model_module": "@jupyter-widgets/base",
     "model_module_version": "1.2.0",
     "model_name": "LayoutModel",
     "state": {
      "_model_module": "@jupyter-widgets/base",
      "_model_module_version": "1.2.0",
      "_model_name": "LayoutModel",
      "_view_count": null,
      "_view_module": "@jupyter-widgets/base",
      "_view_module_version": "1.2.0",
      "_view_name": "LayoutView",
      "align_content": null,
      "align_items": null,
      "align_self": null,
      "border": null,
      "bottom": null,
      "display": null,
      "flex": null,
      "flex_flow": null,
      "grid_area": null,
      "grid_auto_columns": null,
      "grid_auto_flow": null,
      "grid_auto_rows": null,
      "grid_column": null,
      "grid_gap": null,
      "grid_row": null,
      "grid_template_areas": null,
      "grid_template_columns": null,
      "grid_template_rows": null,
      "height": null,
      "justify_content": null,
      "justify_items": null,
      "left": null,
      "margin": null,
      "max_height": null,
      "max_width": null,
      "min_height": null,
      "min_width": null,
      "object_fit": null,
      "object_position": null,
      "order": null,
      "overflow": null,
      "overflow_x": null,
      "overflow_y": null,
      "padding": null,
      "right": null,
      "top": null,
      "visibility": null,
      "width": null
     }
    },
    "50c78644ef5c4db7b2b382ecc522c54d": {
     "model_module": "@jupyter-widgets/base",
     "model_module_version": "1.2.0",
     "model_name": "LayoutModel",
     "state": {
      "_model_module": "@jupyter-widgets/base",
      "_model_module_version": "1.2.0",
      "_model_name": "LayoutModel",
      "_view_count": null,
      "_view_module": "@jupyter-widgets/base",
      "_view_module_version": "1.2.0",
      "_view_name": "LayoutView",
      "align_content": null,
      "align_items": null,
      "align_self": null,
      "border": null,
      "bottom": null,
      "display": null,
      "flex": null,
      "flex_flow": null,
      "grid_area": null,
      "grid_auto_columns": null,
      "grid_auto_flow": null,
      "grid_auto_rows": null,
      "grid_column": null,
      "grid_gap": null,
      "grid_row": null,
      "grid_template_areas": null,
      "grid_template_columns": null,
      "grid_template_rows": null,
      "height": null,
      "justify_content": null,
      "justify_items": null,
      "left": null,
      "margin": null,
      "max_height": null,
      "max_width": null,
      "min_height": null,
      "min_width": null,
      "object_fit": null,
      "object_position": null,
      "order": null,
      "overflow": null,
      "overflow_x": null,
      "overflow_y": null,
      "padding": null,
      "right": null,
      "top": null,
      "visibility": null,
      "width": null
     }
    },
    "7d9c78b0598f469a935d9d1ccb1cce71": {
     "model_module": "@jupyter-widgets/controls",
     "model_module_version": "1.5.0",
     "model_name": "CheckboxModel",
     "state": {
      "_dom_classes": [],
      "_model_module": "@jupyter-widgets/controls",
      "_model_module_version": "1.5.0",
      "_model_name": "CheckboxModel",
      "_view_count": null,
      "_view_module": "@jupyter-widgets/controls",
      "_view_module_version": "1.5.0",
      "_view_name": "CheckboxView",
      "description": "Convertir a RGB",
      "description_tooltip": null,
      "disabled": false,
      "indent": true,
      "layout": "IPY_MODEL_e0eab0b790464b7183f57c4a4c9c2283",
      "style": "IPY_MODEL_7ffcf08dd9e849edb755127911db955b",
      "value": true
     }
    },
    "7ffcf08dd9e849edb755127911db955b": {
     "model_module": "@jupyter-widgets/controls",
     "model_module_version": "1.5.0",
     "model_name": "DescriptionStyleModel",
     "state": {
      "_model_module": "@jupyter-widgets/controls",
      "_model_module_version": "1.5.0",
      "_model_name": "DescriptionStyleModel",
      "_view_count": null,
      "_view_module": "@jupyter-widgets/base",
      "_view_module_version": "1.2.0",
      "_view_name": "StyleView",
      "description_width": ""
     }
    },
    "821eda357b79403881c127f59bb96481": {
     "model_module": "@jupyter-widgets/controls",
     "model_module_version": "1.5.0",
     "model_name": "DescriptionStyleModel",
     "state": {
      "_model_module": "@jupyter-widgets/controls",
      "_model_module_version": "1.5.0",
      "_model_name": "DescriptionStyleModel",
      "_view_count": null,
      "_view_module": "@jupyter-widgets/base",
      "_view_module_version": "1.2.0",
      "_view_name": "StyleView",
      "description_width": ""
     }
    },
    "85acc67a5e3d4374901554639b1673d3": {
     "model_module": "@jupyter-widgets/base",
     "model_module_version": "1.2.0",
     "model_name": "LayoutModel",
     "state": {
      "_model_module": "@jupyter-widgets/base",
      "_model_module_version": "1.2.0",
      "_model_name": "LayoutModel",
      "_view_count": null,
      "_view_module": "@jupyter-widgets/base",
      "_view_module_version": "1.2.0",
      "_view_name": "LayoutView",
      "align_content": null,
      "align_items": null,
      "align_self": null,
      "border": null,
      "bottom": null,
      "display": null,
      "flex": null,
      "flex_flow": null,
      "grid_area": null,
      "grid_auto_columns": null,
      "grid_auto_flow": null,
      "grid_auto_rows": null,
      "grid_column": null,
      "grid_gap": null,
      "grid_row": null,
      "grid_template_areas": null,
      "grid_template_columns": null,
      "grid_template_rows": null,
      "height": null,
      "justify_content": null,
      "justify_items": null,
      "left": null,
      "margin": null,
      "max_height": null,
      "max_width": null,
      "min_height": null,
      "min_width": null,
      "object_fit": null,
      "object_position": null,
      "order": null,
      "overflow": null,
      "overflow_x": null,
      "overflow_y": null,
      "padding": null,
      "right": null,
      "top": null,
      "visibility": null,
      "width": null
     }
    },
    "8d43686563f044e89e145c5685cb5d90": {
     "model_module": "@jupyter-widgets/controls",
     "model_module_version": "1.5.0",
     "model_name": "SliderStyleModel",
     "state": {
      "_model_module": "@jupyter-widgets/controls",
      "_model_module_version": "1.5.0",
      "_model_name": "SliderStyleModel",
      "_view_count": null,
      "_view_module": "@jupyter-widgets/base",
      "_view_module_version": "1.2.0",
      "_view_name": "StyleView",
      "description_width": "",
      "handle_color": null
     }
    },
    "96c7b15514fe4be7b10aafd2e77eb092": {
     "model_module": "@jupyter-widgets/controls",
     "model_module_version": "1.5.0",
     "model_name": "IntSliderModel",
     "state": {
      "_dom_classes": [],
      "_model_module": "@jupyter-widgets/controls",
      "_model_module_version": "1.5.0",
      "_model_name": "IntSliderModel",
      "_view_count": null,
      "_view_module": "@jupyter-widgets/controls",
      "_view_module_version": "1.5.0",
      "_view_name": "IntSliderView",
      "continuous_update": true,
      "description": "Umbral_Sup",
      "description_tooltip": null,
      "disabled": false,
      "layout": "IPY_MODEL_0360685c8ba247f391d0c985b3e64e4f",
      "max": 255,
      "min": 0,
      "orientation": "horizontal",
      "readout": true,
      "readout_format": "d",
      "step": 1,
      "style": "IPY_MODEL_3831d6e3fe9e49678e915d5d8ab15b80",
      "value": 200
     }
    },
    "98cd60bc78e34232917cae8fb591149a": {
     "model_module": "@jupyter-widgets/controls",
     "model_module_version": "1.5.0",
     "model_name": "SliderStyleModel",
     "state": {
      "_model_module": "@jupyter-widgets/controls",
      "_model_module_version": "1.5.0",
      "_model_name": "SliderStyleModel",
      "_view_count": null,
      "_view_module": "@jupyter-widgets/base",
      "_view_module_version": "1.2.0",
      "_view_name": "StyleView",
      "description_width": "",
      "handle_color": null
     }
    },
    "a093aa0df4d04b12b79a8ca4145e9fc0": {
     "model_module": "@jupyter-widgets/controls",
     "model_module_version": "1.5.0",
     "model_name": "DescriptionStyleModel",
     "state": {
      "_model_module": "@jupyter-widgets/controls",
      "_model_module_version": "1.5.0",
      "_model_name": "DescriptionStyleModel",
      "_view_count": null,
      "_view_module": "@jupyter-widgets/base",
      "_view_module_version": "1.2.0",
      "_view_name": "StyleView",
      "description_width": ""
     }
    },
    "a791fbf2e4294a42aaf4c8e8867b3fd5": {
     "model_module": "@jupyter-widgets/controls",
     "model_module_version": "1.5.0",
     "model_name": "DescriptionStyleModel",
     "state": {
      "_model_module": "@jupyter-widgets/controls",
      "_model_module_version": "1.5.0",
      "_model_name": "DescriptionStyleModel",
      "_view_count": null,
      "_view_module": "@jupyter-widgets/base",
      "_view_module_version": "1.2.0",
      "_view_name": "StyleView",
      "description_width": ""
     }
    },
    "aaf5388c1a4c418eb8c32da1591dd8f4": {
     "model_module": "@jupyter-widgets/output",
     "model_module_version": "1.0.0",
     "model_name": "OutputModel",
     "state": {
      "_dom_classes": [],
      "_model_module": "@jupyter-widgets/output",
      "_model_module_version": "1.0.0",
      "_model_name": "OutputModel",
      "_view_count": null,
      "_view_module": "@jupyter-widgets/output",
      "_view_module_version": "1.0.0",
      "_view_name": "OutputView",
      "layout": "IPY_MODEL_85acc67a5e3d4374901554639b1673d3",
      "msg_id": "87a8de56-518b-401e-f074-a3cacd152790",
      "outputs": [
       {
        "name": "stdout",
        "output_type": "stream",
        "text": [
         "\n",
         "     Intensidad de los canales de color      \n",
         "     Canal       Minimo    Maximo   Promedio \n",
         "Canal Azul              2       255     72.28\n",
         "Canal Verde             3       255     75.62\n",
         "Canal Rojo              4       255    104.92\n",
         "\n"
        ]
       }
      ]
     }
    },
    "b404117344214417a8add5feece3f146": {
     "model_module": "@jupyter-widgets/base",
     "model_module_version": "1.2.0",
     "model_name": "LayoutModel",
     "state": {
      "_model_module": "@jupyter-widgets/base",
      "_model_module_version": "1.2.0",
      "_model_name": "LayoutModel",
      "_view_count": null,
      "_view_module": "@jupyter-widgets/base",
      "_view_module_version": "1.2.0",
      "_view_name": "LayoutView",
      "align_content": null,
      "align_items": null,
      "align_self": null,
      "border": null,
      "bottom": null,
      "display": null,
      "flex": null,
      "flex_flow": null,
      "grid_area": null,
      "grid_auto_columns": null,
      "grid_auto_flow": null,
      "grid_auto_rows": null,
      "grid_column": null,
      "grid_gap": null,
      "grid_row": null,
      "grid_template_areas": null,
      "grid_template_columns": null,
      "grid_template_rows": null,
      "height": null,
      "justify_content": null,
      "justify_items": null,
      "left": null,
      "margin": null,
      "max_height": null,
      "max_width": null,
      "min_height": null,
      "min_width": null,
      "object_fit": null,
      "object_position": null,
      "order": null,
      "overflow": null,
      "overflow_x": null,
      "overflow_y": null,
      "padding": null,
      "right": null,
      "top": null,
      "visibility": null,
      "width": null
     }
    },
    "b4ed9d3a6d2a46b2b16e719bfcb32fd6": {
     "model_module": "@jupyter-widgets/controls",
     "model_module_version": "1.5.0",
     "model_name": "VBoxModel",
     "state": {
      "_dom_classes": [
       "widget-interact"
      ],
      "_model_module": "@jupyter-widgets/controls",
      "_model_module_version": "1.5.0",
      "_model_name": "VBoxModel",
      "_view_count": null,
      "_view_module": "@jupyter-widgets/controls",
      "_view_module_version": "1.5.0",
      "_view_name": "VBoxView",
      "box_style": "",
      "children": [
       "IPY_MODEL_0ca5e93abb6b4a32995f3543fee54092",
       "IPY_MODEL_39d7aced1d554c33aacdc338b8eba30e",
       "IPY_MODEL_053b793b045f46a79f0e9518d2883c17",
       "IPY_MODEL_3ef3717c348145689f928f41ef7fe7e8",
       "IPY_MODEL_7d9c78b0598f469a935d9d1ccb1cce71",
       "IPY_MODEL_37a9f3b450aa4676951b5b60b8f6aa91",
       "IPY_MODEL_26c7b63a3da84b54bbd1340e0358f916",
       "IPY_MODEL_fd734b73f0b24a288f961a3114b71d7f",
       "IPY_MODEL_96c7b15514fe4be7b10aafd2e77eb092",
       "IPY_MODEL_fbb985e543064952811471037172f689",
       "IPY_MODEL_4b7a9012b2c84ad0b66cf606095e6240",
       "IPY_MODEL_ea95b1744c7c402ca30ba1c0a4dc28d4",
       "IPY_MODEL_c7b42e78506b4b5e99538096135d5008",
       "IPY_MODEL_aaf5388c1a4c418eb8c32da1591dd8f4"
      ],
      "layout": "IPY_MODEL_e250bdb9b5724bed9d85620e7671bae5"
     }
    },
    "b6bc9ab9ea6f455eac0cbdeb48418420": {
     "model_module": "@jupyter-widgets/base",
     "model_module_version": "1.2.0",
     "model_name": "LayoutModel",
     "state": {
      "_model_module": "@jupyter-widgets/base",
      "_model_module_version": "1.2.0",
      "_model_name": "LayoutModel",
      "_view_count": null,
      "_view_module": "@jupyter-widgets/base",
      "_view_module_version": "1.2.0",
      "_view_name": "LayoutView",
      "align_content": null,
      "align_items": null,
      "align_self": null,
      "border": null,
      "bottom": null,
      "display": null,
      "flex": null,
      "flex_flow": null,
      "grid_area": null,
      "grid_auto_columns": null,
      "grid_auto_flow": null,
      "grid_auto_rows": null,
      "grid_column": null,
      "grid_gap": null,
      "grid_row": null,
      "grid_template_areas": null,
      "grid_template_columns": null,
      "grid_template_rows": null,
      "height": null,
      "justify_content": null,
      "justify_items": null,
      "left": null,
      "margin": null,
      "max_height": null,
      "max_width": null,
      "min_height": null,
      "min_width": null,
      "object_fit": null,
      "object_position": null,
      "order": null,
      "overflow": null,
      "overflow_x": null,
      "overflow_y": null,
      "padding": null,
      "right": null,
      "top": null,
      "visibility": null,
      "width": null
     }
    },
    "b6c4af86cfda41d781ec7909a5d0a30e": {
     "model_module": "@jupyter-widgets/base",
     "model_module_version": "1.2.0",
     "model_name": "LayoutModel",
     "state": {
      "_model_module": "@jupyter-widgets/base",
      "_model_module_version": "1.2.0",
      "_model_name": "LayoutModel",
      "_view_count": null,
      "_view_module": "@jupyter-widgets/base",
      "_view_module_version": "1.2.0",
      "_view_name": "LayoutView",
      "align_content": null,
      "align_items": null,
      "align_self": null,
      "border": null,
      "bottom": null,
      "display": null,
      "flex": null,
      "flex_flow": null,
      "grid_area": null,
      "grid_auto_columns": null,
      "grid_auto_flow": null,
      "grid_auto_rows": null,
      "grid_column": null,
      "grid_gap": null,
      "grid_row": null,
      "grid_template_areas": null,
      "grid_template_columns": null,
      "grid_template_rows": null,
      "height": null,
      "justify_content": null,
      "justify_items": null,
      "left": null,
      "margin": null,
      "max_height": null,
      "max_width": null,
      "min_height": null,
      "min_width": null,
      "object_fit": null,
      "object_position": null,
      "order": null,
      "overflow": null,
      "overflow_x": null,
      "overflow_y": null,
      "padding": null,
      "right": null,
      "top": null,
      "visibility": null,
      "width": null
     }
    },
    "bfe860dbadb74a88b9ee50677db1ed72": {
     "model_module": "@jupyter-widgets/base",
     "model_module_version": "1.2.0",
     "model_name": "LayoutModel",
     "state": {
      "_model_module": "@jupyter-widgets/base",
      "_model_module_version": "1.2.0",
      "_model_name": "LayoutModel",
      "_view_count": null,
      "_view_module": "@jupyter-widgets/base",
      "_view_module_version": "1.2.0",
      "_view_name": "LayoutView",
      "align_content": null,
      "align_items": null,
      "align_self": null,
      "border": null,
      "bottom": null,
      "display": null,
      "flex": null,
      "flex_flow": null,
      "grid_area": null,
      "grid_auto_columns": null,
      "grid_auto_flow": null,
      "grid_auto_rows": null,
      "grid_column": null,
      "grid_gap": null,
      "grid_row": null,
      "grid_template_areas": null,
      "grid_template_columns": null,
      "grid_template_rows": null,
      "height": null,
      "justify_content": null,
      "justify_items": null,
      "left": null,
      "margin": null,
      "max_height": null,
      "max_width": null,
      "min_height": null,
      "min_width": null,
      "object_fit": null,
      "object_position": null,
      "order": null,
      "overflow": null,
      "overflow_x": null,
      "overflow_y": null,
      "padding": null,
      "right": null,
      "top": null,
      "visibility": null,
      "width": null
     }
    },
    "c7b42e78506b4b5e99538096135d5008": {
     "model_module": "@jupyter-widgets/controls",
     "model_module_version": "1.5.0",
     "model_name": "DropdownModel",
     "state": {
      "_dom_classes": [],
      "_model_module": "@jupyter-widgets/controls",
      "_model_module_version": "1.5.0",
      "_model_name": "DropdownModel",
      "_options_labels": [
       "BORDER_CONSTANT",
       "BORDER_REPLICATE",
       "BORDER_REFLECT",
       "BORDER_WRAP",
       "BORDER_REFLECT_101"
      ],
      "_view_count": null,
      "_view_module": "@jupyter-widgets/controls",
      "_view_module_version": "1.5.0",
      "_view_name": "DropdownView",
      "description": "Border Type",
      "description_tooltip": null,
      "disabled": false,
      "index": 0,
      "layout": "IPY_MODEL_b6c4af86cfda41d781ec7909a5d0a30e",
      "style": "IPY_MODEL_a791fbf2e4294a42aaf4c8e8867b3fd5"
     }
    },
    "d0ba3c7164954a54a4be8e756a1b9fd4": {
     "model_module": "@jupyter-widgets/base",
     "model_module_version": "1.2.0",
     "model_name": "LayoutModel",
     "state": {
      "_model_module": "@jupyter-widgets/base",
      "_model_module_version": "1.2.0",
      "_model_name": "LayoutModel",
      "_view_count": null,
      "_view_module": "@jupyter-widgets/base",
      "_view_module_version": "1.2.0",
      "_view_name": "LayoutView",
      "align_content": null,
      "align_items": null,
      "align_self": null,
      "border": null,
      "bottom": null,
      "display": null,
      "flex": null,
      "flex_flow": null,
      "grid_area": null,
      "grid_auto_columns": null,
      "grid_auto_flow": null,
      "grid_auto_rows": null,
      "grid_column": null,
      "grid_gap": null,
      "grid_row": null,
      "grid_template_areas": null,
      "grid_template_columns": null,
      "grid_template_rows": null,
      "height": null,
      "justify_content": null,
      "justify_items": null,
      "left": null,
      "margin": null,
      "max_height": null,
      "max_width": null,
      "min_height": null,
      "min_width": null,
      "object_fit": null,
      "object_position": null,
      "order": null,
      "overflow": null,
      "overflow_x": null,
      "overflow_y": null,
      "padding": null,
      "right": null,
      "top": null,
      "visibility": null,
      "width": null
     }
    },
    "e0eab0b790464b7183f57c4a4c9c2283": {
     "model_module": "@jupyter-widgets/base",
     "model_module_version": "1.2.0",
     "model_name": "LayoutModel",
     "state": {
      "_model_module": "@jupyter-widgets/base",
      "_model_module_version": "1.2.0",
      "_model_name": "LayoutModel",
      "_view_count": null,
      "_view_module": "@jupyter-widgets/base",
      "_view_module_version": "1.2.0",
      "_view_name": "LayoutView",
      "align_content": null,
      "align_items": null,
      "align_self": null,
      "border": null,
      "bottom": null,
      "display": null,
      "flex": null,
      "flex_flow": null,
      "grid_area": null,
      "grid_auto_columns": null,
      "grid_auto_flow": null,
      "grid_auto_rows": null,
      "grid_column": null,
      "grid_gap": null,
      "grid_row": null,
      "grid_template_areas": null,
      "grid_template_columns": null,
      "grid_template_rows": null,
      "height": null,
      "justify_content": null,
      "justify_items": null,
      "left": null,
      "margin": null,
      "max_height": null,
      "max_width": null,
      "min_height": null,
      "min_width": null,
      "object_fit": null,
      "object_position": null,
      "order": null,
      "overflow": null,
      "overflow_x": null,
      "overflow_y": null,
      "padding": null,
      "right": null,
      "top": null,
      "visibility": null,
      "width": null
     }
    },
    "e250bdb9b5724bed9d85620e7671bae5": {
     "model_module": "@jupyter-widgets/base",
     "model_module_version": "1.2.0",
     "model_name": "LayoutModel",
     "state": {
      "_model_module": "@jupyter-widgets/base",
      "_model_module_version": "1.2.0",
      "_model_name": "LayoutModel",
      "_view_count": null,
      "_view_module": "@jupyter-widgets/base",
      "_view_module_version": "1.2.0",
      "_view_name": "LayoutView",
      "align_content": null,
      "align_items": null,
      "align_self": null,
      "border": null,
      "bottom": null,
      "display": null,
      "flex": null,
      "flex_flow": null,
      "grid_area": null,
      "grid_auto_columns": null,
      "grid_auto_flow": null,
      "grid_auto_rows": null,
      "grid_column": null,
      "grid_gap": null,
      "grid_row": null,
      "grid_template_areas": null,
      "grid_template_columns": null,
      "grid_template_rows": null,
      "height": null,
      "justify_content": null,
      "justify_items": null,
      "left": null,
      "margin": null,
      "max_height": null,
      "max_width": null,
      "min_height": null,
      "min_width": null,
      "object_fit": null,
      "object_position": null,
      "order": null,
      "overflow": null,
      "overflow_x": null,
      "overflow_y": null,
      "padding": null,
      "right": null,
      "top": null,
      "visibility": null,
      "width": null
     }
    },
    "e7d95a476b77477ba1c53a349ebacc31": {
     "model_module": "@jupyter-widgets/base",
     "model_module_version": "1.2.0",
     "model_name": "LayoutModel",
     "state": {
      "_model_module": "@jupyter-widgets/base",
      "_model_module_version": "1.2.0",
      "_model_name": "LayoutModel",
      "_view_count": null,
      "_view_module": "@jupyter-widgets/base",
      "_view_module_version": "1.2.0",
      "_view_name": "LayoutView",
      "align_content": null,
      "align_items": null,
      "align_self": null,
      "border": null,
      "bottom": null,
      "display": null,
      "flex": null,
      "flex_flow": null,
      "grid_area": null,
      "grid_auto_columns": null,
      "grid_auto_flow": null,
      "grid_auto_rows": null,
      "grid_column": null,
      "grid_gap": null,
      "grid_row": null,
      "grid_template_areas": null,
      "grid_template_columns": null,
      "grid_template_rows": null,
      "height": null,
      "justify_content": null,
      "justify_items": null,
      "left": null,
      "margin": null,
      "max_height": null,
      "max_width": null,
      "min_height": null,
      "min_width": null,
      "object_fit": null,
      "object_position": null,
      "order": null,
      "overflow": null,
      "overflow_x": null,
      "overflow_y": null,
      "padding": null,
      "right": null,
      "top": null,
      "visibility": null,
      "width": null
     }
    },
    "ea95b1744c7c402ca30ba1c0a4dc28d4": {
     "model_module": "@jupyter-widgets/controls",
     "model_module_version": "1.5.0",
     "model_name": "FloatSliderModel",
     "state": {
      "_dom_classes": [],
      "_model_module": "@jupyter-widgets/controls",
      "_model_module_version": "1.5.0",
      "_model_name": "FloatSliderModel",
      "_view_count": null,
      "_view_module": "@jupyter-widgets/controls",
      "_view_module_version": "1.5.0",
      "_view_name": "FloatSliderView",
      "continuous_update": true,
      "description": "sigma",
      "description_tooltip": null,
      "disabled": false,
      "layout": "IPY_MODEL_1376e48c34ab4a9f97ead64784c5b274",
      "max": 5,
      "min": 0,
      "orientation": "horizontal",
      "readout": true,
      "readout_format": ".2f",
      "step": 0.1,
      "style": "IPY_MODEL_05e016d02eb64069a3deef1a66cbe0a8",
      "value": 0
     }
    },
    "fbb985e543064952811471037172f689": {
     "model_module": "@jupyter-widgets/controls",
     "model_module_version": "1.5.0",
     "model_name": "CheckboxModel",
     "state": {
      "_dom_classes": [],
      "_model_module": "@jupyter-widgets/controls",
      "_model_module_version": "1.5.0",
      "_model_name": "CheckboxModel",
      "_view_count": null,
      "_view_module": "@jupyter-widgets/controls",
      "_view_module_version": "1.5.0",
      "_view_name": "CheckboxView",
      "description": "Aplicar Gauss",
      "description_tooltip": null,
      "disabled": false,
      "indent": true,
      "layout": "IPY_MODEL_35bf6e3d43694789ba75909763045a9e",
      "style": "IPY_MODEL_a093aa0df4d04b12b79a8ca4145e9fc0",
      "value": false
     }
    },
    "fd734b73f0b24a288f961a3114b71d7f": {
     "model_module": "@jupyter-widgets/controls",
     "model_module_version": "1.5.0",
     "model_name": "IntSliderModel",
     "state": {
      "_dom_classes": [],
      "_model_module": "@jupyter-widgets/controls",
      "_model_module_version": "1.5.0",
      "_model_name": "IntSliderModel",
      "_view_count": null,
      "_view_module": "@jupyter-widgets/controls",
      "_view_module_version": "1.5.0",
      "_view_name": "IntSliderView",
      "continuous_update": true,
      "description": "Umbral_Inf",
      "description_tooltip": null,
      "disabled": false,
      "layout": "IPY_MODEL_4bcbebd550cf4e198dbf9a7e28ab5664",
      "max": 255,
      "min": 0,
      "orientation": "horizontal",
      "readout": true,
      "readout_format": "d",
      "step": 1,
      "style": "IPY_MODEL_3acfbcb2f67944ebbe8d84dd9b6968fe",
      "value": 100
     }
    }
   }
  }
 },
 "nbformat": 4,
 "nbformat_minor": 0
}
